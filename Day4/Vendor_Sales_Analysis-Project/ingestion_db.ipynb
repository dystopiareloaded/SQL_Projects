{
 "cells": [
  {
   "cell_type": "code",
   "execution_count": 1,
   "metadata": {},
   "outputs": [],
   "source": [
    "import pandas"
   ]
  },
  {
   "cell_type": "code",
   "execution_count": 2,
   "metadata": {},
   "outputs": [
    {
     "name": "stderr",
     "output_type": "stream",
     "text": [
      "📥 Ingesting CSVs:   0%|          | 0/6 [00:00<?, ?it/s]"
     ]
    },
    {
     "name": "stdout",
     "output_type": "stream",
     "text": [
      "(206529, 9)\n"
     ]
    },
    {
     "name": "stderr",
     "output_type": "stream",
     "text": [
      "📥 Ingesting CSVs:  17%|█▋        | 1/6 [00:03<00:15,  3.09s/it]"
     ]
    },
    {
     "name": "stdout",
     "output_type": "stream",
     "text": [
      "(224489, 9)\n"
     ]
    },
    {
     "name": "stderr",
     "output_type": "stream",
     "text": [
      "📥 Ingesting CSVs:  33%|███▎      | 2/6 [00:05<00:11,  2.95s/it]"
     ]
    },
    {
     "name": "stdout",
     "output_type": "stream",
     "text": [
      "(2372474, 16)\n"
     ]
    },
    {
     "name": "stderr",
     "output_type": "stream",
     "text": [
      "📥 Ingesting CSVs:  50%|█████     | 3/6 [01:01<01:21, 27.11s/it]"
     ]
    },
    {
     "name": "stdout",
     "output_type": "stream",
     "text": [
      "(12261, 9)\n"
     ]
    },
    {
     "name": "stderr",
     "output_type": "stream",
     "text": [
      "📥 Ingesting CSVs:  67%|██████▋   | 4/6 [01:03<00:34, 17.16s/it]"
     ]
    },
    {
     "name": "stdout",
     "output_type": "stream",
     "text": [
      "(12825363, 14)\n"
     ]
    },
    {
     "name": "stderr",
     "output_type": "stream",
     "text": [
      "📥 Ingesting CSVs:  83%|████████▎ | 5/6 [15:45<05:28, 328.86s/it]"
     ]
    },
    {
     "name": "stdout",
     "output_type": "stream",
     "text": [
      "(5543, 10)\n"
     ]
    },
    {
     "name": "stderr",
     "output_type": "stream",
     "text": [
      "📥 Ingesting CSVs: 100%|██████████| 6/6 [15:49<00:00, 158.24s/it]"
     ]
    },
    {
     "name": "stdout",
     "output_type": "stream",
     "text": [
      "🎉 All files ingested in 15.82 minutes.\n"
     ]
    },
    {
     "name": "stderr",
     "output_type": "stream",
     "text": [
      "\n"
     ]
    }
   ],
   "source": [
    "import pandas as pd\n",
    "import logging\n",
    "import time\n",
    "import os\n",
    "from tqdm import tqdm\n",
    "from sqlalchemy import create_engine\n",
    "\n",
    "# ✅ Ensure the logs directory exists\n",
    "os.makedirs(\"logs\", exist_ok=True)\n",
    "\n",
    "# ✅ Setup logging\n",
    "logging.basicConfig(\n",
    "    filename=\"logs/ingestion_db.log\",\n",
    "    level=logging.DEBUG,\n",
    "    format=\"%(asctime)s - %(levelname)s - %(message)s\",\n",
    "    filemode=\"a\"  # append\n",
    ")\n",
    "\n",
    "# ✅ Create SQLAlchemy engine for SQLite\n",
    "engine = create_engine(\"sqlite:///inventory.db\")\n",
    "\n",
    "def ingest_db(df, table_name, engine):\n",
    "    '''Ingest the DataFrame into the SQLite database'''\n",
    "    df.to_sql(table_name, con=engine, if_exists='replace', index=False)\n",
    "    logging.info(f\"✅ Ingested table '{table_name}' with shape {df.shape}\")\n",
    "\n",
    "def load_raw_data():\n",
    "    '''Load all CSV files from the data folder and ingest them into the DB'''\n",
    "    start = time.time()\n",
    "    data_dir = \"data\"\n",
    "    csv_files = []\n",
    "\n",
    "    # ✅ Collect .csv files (no list comprehension)\n",
    "    for file in os.listdir(data_dir):\n",
    "        if file.endswith(\".csv\"):\n",
    "            csv_files.append(file)\n",
    "\n",
    "    # ✅ Loop through CSVs with tqdm\n",
    "    for file in tqdm(csv_files, desc=\"📥 Ingesting CSVs\"):\n",
    "        try:\n",
    "            file_path = os.path.join(data_dir, file)\n",
    "            df = pd.read_csv(file_path)\n",
    "            table_name = file[:-4]  # remove \".csv\"\n",
    "            print(df.shape)\n",
    "            logging.info(f\"🔄 Ingesting {file} into table '{table_name}'\")\n",
    "            ingest_db(df, table_name, engine)\n",
    "        except Exception as e:\n",
    "            logging.error(f\"❌ Failed to ingest {file}: {str(e)}\")\n",
    "            print(f\"❌ Error importing '{file}': {str(e)}\")\n",
    "\n",
    "    end = time.time()\n",
    "    total_time = round((end - start) / 60, 2)\n",
    "    logging.info(\"🚀 Ingestion Complete\")\n",
    "    logging.info(f\"🕒 Total Time Taken: {total_time} minutes\")\n",
    "    print(f\"🎉 All files ingested in {total_time} minutes.\")\n",
    "\n",
    "if __name__ == '__main__':\n",
    "    load_raw_data()9\n"
   ]
  }
 ],
 "metadata": {
  "kernelspec": {
   "display_name": "base",
   "language": "python",
   "name": "python3"
  },
  "language_info": {
   "codemirror_mode": {
    "name": "ipython",
    "version": 3
   },
   "file_extension": ".py",
   "mimetype": "text/x-python",
   "name": "python",
   "nbconvert_exporter": "python",
   "pygments_lexer": "ipython3",
   "version": "3.12.7"
  }
 },
 "nbformat": 4,
 "nbformat_minor": 2
}
