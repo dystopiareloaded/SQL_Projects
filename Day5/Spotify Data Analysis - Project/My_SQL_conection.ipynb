{
 "cells": [
  {
   "cell_type": "code",
   "execution_count": 6,
   "id": "cb57f362-be45-4f6f-9dae-54f4f0b295b1",
   "metadata": {},
   "outputs": [
    {
     "name": "stdout",
     "output_type": "stream",
     "text": [
      "✅ Successfully imported 'Spotify-cleaned_dataset.csv' into table 'spotify'\n",
      "🎉 Import process completed.\n"
     ]
    }
   ],
   "source": [
    "import pandas as pd\n",
    "from sqlalchemy import create_engine\n",
    "import pymysql\n",
    "\n",
    "# ✅ Step 1: MySQL credentials and config\n",
    "username = 'root'\n",
    "password = 'kaustav007'\n",
    "host = '127.0.0.1'\n",
    "port = 3306\n",
    "database_name = 'sql_kaggle'\n",
    "\n",
    "# ✅ Step 2: Create SQLAlchemy engine for the database\n",
    "database_url = f\"mysql+pymysql://{username}:{password}@{host}:{port}/{database_name}\"\n",
    "engine = create_engine(database_url)\n",
    "\n",
    "# ✅ Step 3: Specify your single CSV file and table name\n",
    "file_name = \"Spotify-cleaned_dataset.csv\"\n",
    "table_name = \"spotify\"\n",
    "\n",
    "# ✅ Step 4: Read and upload with error handling\n",
    "try:\n",
    "    df = pd.read_csv(file_name)\n",
    "    df.to_sql(table_name, engine, if_exists=\"replace\", index=True)\n",
    "    print(f\"✅ Successfully imported '{file_name}' into table '{table_name}'\")\n",
    "except FileNotFoundError:\n",
    "    print(f\"❌ File '{file_name}' not found.\")\n",
    "except Exception as e:\n",
    "    print(f\"❌ Error importing '{file_name}' into table '{table_name}': {e}\")\n",
    "\n",
    "print(\"🎉 Import process completed.\")"
   ]
  },
  {
   "cell_type": "code",
   "execution_count": null,
   "id": "0352304b-afcf-4998-b36a-032989139f1b",
   "metadata": {},
   "outputs": [],
   "source": []
  }
 ],
 "metadata": {
  "kernelspec": {
   "display_name": "Python (base)",
   "language": "python",
   "name": "base"
  },
  "language_info": {
   "codemirror_mode": {
    "name": "ipython",
    "version": 3
   },
   "file_extension": ".py",
   "mimetype": "text/x-python",
   "name": "python",
   "nbconvert_exporter": "python",
   "pygments_lexer": "ipython3",
   "version": "3.12.7"
  }
 },
 "nbformat": 4,
 "nbformat_minor": 5
}
